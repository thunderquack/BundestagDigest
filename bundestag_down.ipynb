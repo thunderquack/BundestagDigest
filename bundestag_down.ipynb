{
 "cells": [
  {
   "cell_type": "code",
   "execution_count": null,
   "id": "173b7131",
   "metadata": {
    "vscode": {
     "languageId": "plaintext"
    }
   },
   "outputs": [],
   "source": [
    "print('hello')"
   ]
  }
 ],
 "metadata": {
  "language_info": {
   "name": "python"
  }
 },
 "nbformat": 4,
 "nbformat_minor": 5
}
